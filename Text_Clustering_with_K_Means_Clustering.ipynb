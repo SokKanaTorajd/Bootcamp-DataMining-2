{
  "nbformat": 4,
  "nbformat_minor": 0,
  "metadata": {
    "colab": {
      "name": "Text Clustering with K-Means Clustering.ipynb",
      "provenance": [],
      "collapsed_sections": [],
      "authorship_tag": "ABX9TyMPpsKgllILZi6KBFY9sCNk",
      "include_colab_link": true
    },
    "kernelspec": {
      "name": "python3",
      "display_name": "Python 3"
    },
    "language_info": {
      "name": "python"
    }
  },
  "cells": [
    {
      "cell_type": "markdown",
      "metadata": {
        "id": "view-in-github",
        "colab_type": "text"
      },
      "source": [
        "<a href=\"https://colab.research.google.com/github/SokKanaTorajd/Bootcamp-DataMining-2/blob/main/Text_Clustering_with_K_Means_Clustering.ipynb\" target=\"_parent\"><img src=\"https://colab.research.google.com/assets/colab-badge.svg\" alt=\"Open In Colab\"/></a>"
      ]
    },
    {
      "cell_type": "markdown",
      "source": [
        "# Import Libraries"
      ],
      "metadata": {
        "id": "WBM8U-OS1QSJ"
      }
    },
    {
      "cell_type": "code",
      "execution_count": null,
      "metadata": {
        "id": "ds2GVGWV1HR1"
      },
      "outputs": [],
      "source": [
        "from sklearn.cluster import KMeans\n",
        "from sklearn.feature_extraction.text import TfidfVectorizer\n",
        "\n",
        "import pandas as pd\n",
        "import numpy as np"
      ]
    },
    {
      "cell_type": "markdown",
      "source": [
        "# Load Data"
      ],
      "metadata": {
        "id": "-rRxk5jf1USU"
      }
    },
    {
      "cell_type": "code",
      "source": [
        "df = pd.read_csv('/content/preprocessed-news.csv')\n",
        "df.info()"
      ],
      "metadata": {
        "id": "z14SXotO1S8m"
      },
      "execution_count": null,
      "outputs": []
    },
    {
      "cell_type": "code",
      "source": [
        "# check kolom kategori\n",
        "categories = df['kategori'].unique()\n",
        "categories"
      ],
      "metadata": {
        "id": "uWyL8qq73Vw1"
      },
      "execution_count": null,
      "outputs": []
    },
    {
      "cell_type": "code",
      "source": [
        "categories = list(categories)\n",
        "print(categories)\n",
        "print(len(categories))"
      ],
      "metadata": {
        "id": "rxNZ_wZU3wYM"
      },
      "execution_count": null,
      "outputs": []
    },
    {
      "cell_type": "code",
      "source": [
        "# karena kategorinya terlalu banyak, hanya akan menggunakan 4 kategori yaitu 'TEKNO', 'SAINS', 'LIFESTYLE', dan 'MONEY'\n",
        "new_df = df.loc[df['kategori'].isin(['TEKNO', 'SAINS', 'LIFESTYLE', 'MONEY'])].reset_index()\n",
        "new_df.info()"
      ],
      "metadata": {
        "id": "ijeXi9sR3x3d"
      },
      "execution_count": null,
      "outputs": []
    },
    {
      "cell_type": "markdown",
      "source": [
        "# Feature Extraction"
      ],
      "metadata": {
        "id": "pOWosHd14D4h"
      }
    },
    {
      "cell_type": "code",
      "source": [
        "# menggunakan TF-IDF Vectorizer\n",
        "vectorizer = TfidfVectorizer()\n",
        "X = vectorizer.fit_transform(new_df['lemmatized'])\n",
        "\n",
        "# menentukan nilai k\n",
        "true_k = 4 # karena kita menggunakan 4 kategori"
      ],
      "metadata": {
        "id": "ntR4klv74HBg"
      },
      "execution_count": null,
      "outputs": []
    },
    {
      "cell_type": "markdown",
      "source": [
        "# Membuat model"
      ],
      "metadata": {
        "id": "KiSWK2m44EBe"
      }
    },
    {
      "cell_type": "code",
      "source": [
        "model = KMeans(n_clusters=true_k, init='k-means++',\n",
        "               max_iter=100, n_init=5)\n",
        "model.fit(X)"
      ],
      "metadata": {
        "id": "dK3BxktZ8GjJ"
      },
      "execution_count": null,
      "outputs": []
    },
    {
      "cell_type": "code",
      "source": [
        "print(\"Kata kunci teratas per klaster:\")\n",
        "# Mengembalikan indeks yang akan mengurutkan array\n",
        "order_centroids = model.cluster_centers_.argsort()[:, ::-1]\n",
        "terms = vectorizer.get_feature_names()\n",
        "for i in range(true_k):\n",
        "    print(\"Klaster %d:\" % i),\n",
        "    # mencetak 10 kata dari masing-masih klaster\n",
        "    for ind in order_centroids[i, :10]:\n",
        "        print(' %s' % terms[ind])\n",
        "    print(\"\\n\")"
      ],
      "metadata": {
        "id": "I8laSka69MIO"
      },
      "execution_count": null,
      "outputs": []
    },
    {
      "cell_type": "markdown",
      "source": [
        "# Uji Coba Model"
      ],
      "metadata": {
        "id": "fe6gOv5Y9EQk"
      }
    },
    {
      "cell_type": "code",
      "source": [
        "def news_clustering(text):\n",
        "  Y = vectorizer.transform([text])\n",
        "  prediction = model.predict(Y)\n",
        "  print(f\"'{text}' termasuk klaster {prediction}\")"
      ],
      "metadata": {
        "id": "5GbjYLI9B6lJ"
      },
      "execution_count": null,
      "outputs": []
    },
    {
      "cell_type": "code",
      "source": [
        "news_clustering('harga laptop semakin naik')"
      ],
      "metadata": {
        "id": "3u_0iuprAHv0"
      },
      "execution_count": null,
      "outputs": []
    },
    {
      "cell_type": "code",
      "source": [
        "news_clustering('penyebaran virus yang cepat menjadi penyebab naiknya kasus infeksi')"
      ],
      "metadata": {
        "id": "TMMm9bhZAgXQ"
      },
      "execution_count": null,
      "outputs": []
    },
    {
      "cell_type": "code",
      "source": [
        ""
      ],
      "metadata": {
        "id": "D2Cen6v8BHW3"
      },
      "execution_count": null,
      "outputs": []
    }
  ]
}