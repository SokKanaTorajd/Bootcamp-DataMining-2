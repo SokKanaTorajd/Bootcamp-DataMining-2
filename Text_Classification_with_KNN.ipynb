{
  "nbformat": 4,
  "nbformat_minor": 0,
  "metadata": {
    "colab": {
      "name": "Text Classification with KNN.ipynb",
      "provenance": [],
      "include_colab_link": true
    },
    "kernelspec": {
      "name": "python3",
      "display_name": "Python 3"
    },
    "language_info": {
      "name": "python"
    }
  },
  "cells": [
    {
      "cell_type": "markdown",
      "metadata": {
        "id": "view-in-github",
        "colab_type": "text"
      },
      "source": [
        "<a href=\"https://colab.research.google.com/github/SokKanaTorajd/Bootcamp-DataMining-2/blob/main/Text_Classification_with_KNN.ipynb\" target=\"_parent\"><img src=\"https://colab.research.google.com/assets/colab-badge.svg\" alt=\"Open In Colab\"/></a>"
      ]
    },
    {
      "cell_type": "markdown",
      "source": [
        "# Import Libraries"
      ],
      "metadata": {
        "id": "S2zUIb4cssfV"
      }
    },
    {
      "cell_type": "code",
      "execution_count": 4,
      "metadata": {
        "id": "SSPUtjiSoc6G"
      },
      "outputs": [],
      "source": [
        "from sklearn.feature_extraction.text import CountVectorizer\n",
        "from sklearn.feature_extraction.text import TfidfTransformer\n",
        "from sklearn.model_selection import train_test_split\n",
        "from sklearn.neighbors import KNeighborsClassifier\n",
        "from sklearn.pipeline import Pipeline\n",
        "\n",
        "import numpy as np\n",
        "import pandas as pd"
      ]
    },
    {
      "cell_type": "markdown",
      "source": [
        "# Load Data"
      ],
      "metadata": {
        "id": "mqAy_P-GsqVC"
      }
    },
    {
      "cell_type": "code",
      "source": [
        "df = pd.read_csv('/content/preprocessed-news.csv')"
      ],
      "metadata": {
        "id": "21x3FkCUpNEd"
      },
      "execution_count": 5,
      "outputs": []
    },
    {
      "cell_type": "code",
      "source": [
        "df.head()"
      ],
      "metadata": {
        "id": "3-8BXrxYs3RE",
        "outputId": "d9f7e9f3-53a4-42b9-8cd2-7e3c21bc1707",
        "colab": {
          "base_uri": "https://localhost:8080/",
          "height": 319
        }
      },
      "execution_count": 6,
      "outputs": [
        {
          "output_type": "execute_result",
          "data": {
            "text/plain": [
              "                                               judul  \\\n",
              "0  Indonesia Kini Punya Sertifikat Vaksin Interna...   \n",
              "1  Resep Ayam Bakar Klaten, Aromanya Gurih karena...   \n",
              "2  FOTO: Setelah Tercemar Tumpahan Minyak, Pantai...   \n",
              "3  Resmi ke Juventus, Buffon Sandingkan Dusan Vla...   \n",
              "4                            6 Penyebab Vagina Gatal   \n",
              "\n",
              "                                          lemmatized kategori tanggal_upload  \\\n",
              "0    indonesia sertifikat vaksin internasional akses    WIKEN     29/01/2022   \n",
              "1   resep ayam bakar klaten aroma gurih pakai santan     FOOD     29/01/2022   \n",
              "2     foto cemar tumpah minyak pantai thailand tutup   GLOBAL     29/01/2022   \n",
              "3  resmi juventus buffon sanding dus vlahovic mba...     BOLA     29/01/2022   \n",
              "4                                 sebab vagina gatal   HEALTH     29/01/2022   \n",
              "\n",
              "  waktu_upload                                        link_berita  \n",
              "0    22:03 WIB  https://www.kompas.com/wiken/read/2022/01/29/2...  \n",
              "1    22:03 WIB  https://www.kompas.com/food/read/2022/01/29/22...  \n",
              "2    22:01 WIB  https://www.kompas.com/global/read/2022/01/29/...  \n",
              "3    22:00 WIB  https://bola.kompas.com/read/2022/01/29/220000...  \n",
              "4    22:00 WIB  https://health.kompas.com/read/2022/01/29/2200...  "
            ],
            "text/html": [
              "\n",
              "  <div id=\"df-d803fcd0-5ce3-4e3e-88c3-e31c3a92dd94\">\n",
              "    <div class=\"colab-df-container\">\n",
              "      <div>\n",
              "<style scoped>\n",
              "    .dataframe tbody tr th:only-of-type {\n",
              "        vertical-align: middle;\n",
              "    }\n",
              "\n",
              "    .dataframe tbody tr th {\n",
              "        vertical-align: top;\n",
              "    }\n",
              "\n",
              "    .dataframe thead th {\n",
              "        text-align: right;\n",
              "    }\n",
              "</style>\n",
              "<table border=\"1\" class=\"dataframe\">\n",
              "  <thead>\n",
              "    <tr style=\"text-align: right;\">\n",
              "      <th></th>\n",
              "      <th>judul</th>\n",
              "      <th>lemmatized</th>\n",
              "      <th>kategori</th>\n",
              "      <th>tanggal_upload</th>\n",
              "      <th>waktu_upload</th>\n",
              "      <th>link_berita</th>\n",
              "    </tr>\n",
              "  </thead>\n",
              "  <tbody>\n",
              "    <tr>\n",
              "      <th>0</th>\n",
              "      <td>Indonesia Kini Punya Sertifikat Vaksin Interna...</td>\n",
              "      <td>indonesia sertifikat vaksin internasional akses</td>\n",
              "      <td>WIKEN</td>\n",
              "      <td>29/01/2022</td>\n",
              "      <td>22:03 WIB</td>\n",
              "      <td>https://www.kompas.com/wiken/read/2022/01/29/2...</td>\n",
              "    </tr>\n",
              "    <tr>\n",
              "      <th>1</th>\n",
              "      <td>Resep Ayam Bakar Klaten, Aromanya Gurih karena...</td>\n",
              "      <td>resep ayam bakar klaten aroma gurih pakai santan</td>\n",
              "      <td>FOOD</td>\n",
              "      <td>29/01/2022</td>\n",
              "      <td>22:03 WIB</td>\n",
              "      <td>https://www.kompas.com/food/read/2022/01/29/22...</td>\n",
              "    </tr>\n",
              "    <tr>\n",
              "      <th>2</th>\n",
              "      <td>FOTO: Setelah Tercemar Tumpahan Minyak, Pantai...</td>\n",
              "      <td>foto cemar tumpah minyak pantai thailand tutup</td>\n",
              "      <td>GLOBAL</td>\n",
              "      <td>29/01/2022</td>\n",
              "      <td>22:01 WIB</td>\n",
              "      <td>https://www.kompas.com/global/read/2022/01/29/...</td>\n",
              "    </tr>\n",
              "    <tr>\n",
              "      <th>3</th>\n",
              "      <td>Resmi ke Juventus, Buffon Sandingkan Dusan Vla...</td>\n",
              "      <td>resmi juventus buffon sanding dus vlahovic mba...</td>\n",
              "      <td>BOLA</td>\n",
              "      <td>29/01/2022</td>\n",
              "      <td>22:00 WIB</td>\n",
              "      <td>https://bola.kompas.com/read/2022/01/29/220000...</td>\n",
              "    </tr>\n",
              "    <tr>\n",
              "      <th>4</th>\n",
              "      <td>6 Penyebab Vagina Gatal</td>\n",
              "      <td>sebab vagina gatal</td>\n",
              "      <td>HEALTH</td>\n",
              "      <td>29/01/2022</td>\n",
              "      <td>22:00 WIB</td>\n",
              "      <td>https://health.kompas.com/read/2022/01/29/2200...</td>\n",
              "    </tr>\n",
              "  </tbody>\n",
              "</table>\n",
              "</div>\n",
              "      <button class=\"colab-df-convert\" onclick=\"convertToInteractive('df-d803fcd0-5ce3-4e3e-88c3-e31c3a92dd94')\"\n",
              "              title=\"Convert this dataframe to an interactive table.\"\n",
              "              style=\"display:none;\">\n",
              "        \n",
              "  <svg xmlns=\"http://www.w3.org/2000/svg\" height=\"24px\"viewBox=\"0 0 24 24\"\n",
              "       width=\"24px\">\n",
              "    <path d=\"M0 0h24v24H0V0z\" fill=\"none\"/>\n",
              "    <path d=\"M18.56 5.44l.94 2.06.94-2.06 2.06-.94-2.06-.94-.94-2.06-.94 2.06-2.06.94zm-11 1L8.5 8.5l.94-2.06 2.06-.94-2.06-.94L8.5 2.5l-.94 2.06-2.06.94zm10 10l.94 2.06.94-2.06 2.06-.94-2.06-.94-.94-2.06-.94 2.06-2.06.94z\"/><path d=\"M17.41 7.96l-1.37-1.37c-.4-.4-.92-.59-1.43-.59-.52 0-1.04.2-1.43.59L10.3 9.45l-7.72 7.72c-.78.78-.78 2.05 0 2.83L4 21.41c.39.39.9.59 1.41.59.51 0 1.02-.2 1.41-.59l7.78-7.78 2.81-2.81c.8-.78.8-2.07 0-2.86zM5.41 20L4 18.59l7.72-7.72 1.47 1.35L5.41 20z\"/>\n",
              "  </svg>\n",
              "      </button>\n",
              "      \n",
              "  <style>\n",
              "    .colab-df-container {\n",
              "      display:flex;\n",
              "      flex-wrap:wrap;\n",
              "      gap: 12px;\n",
              "    }\n",
              "\n",
              "    .colab-df-convert {\n",
              "      background-color: #E8F0FE;\n",
              "      border: none;\n",
              "      border-radius: 50%;\n",
              "      cursor: pointer;\n",
              "      display: none;\n",
              "      fill: #1967D2;\n",
              "      height: 32px;\n",
              "      padding: 0 0 0 0;\n",
              "      width: 32px;\n",
              "    }\n",
              "\n",
              "    .colab-df-convert:hover {\n",
              "      background-color: #E2EBFA;\n",
              "      box-shadow: 0px 1px 2px rgba(60, 64, 67, 0.3), 0px 1px 3px 1px rgba(60, 64, 67, 0.15);\n",
              "      fill: #174EA6;\n",
              "    }\n",
              "\n",
              "    [theme=dark] .colab-df-convert {\n",
              "      background-color: #3B4455;\n",
              "      fill: #D2E3FC;\n",
              "    }\n",
              "\n",
              "    [theme=dark] .colab-df-convert:hover {\n",
              "      background-color: #434B5C;\n",
              "      box-shadow: 0px 1px 3px 1px rgba(0, 0, 0, 0.15);\n",
              "      filter: drop-shadow(0px 1px 2px rgba(0, 0, 0, 0.3));\n",
              "      fill: #FFFFFF;\n",
              "    }\n",
              "  </style>\n",
              "\n",
              "      <script>\n",
              "        const buttonEl =\n",
              "          document.querySelector('#df-d803fcd0-5ce3-4e3e-88c3-e31c3a92dd94 button.colab-df-convert');\n",
              "        buttonEl.style.display =\n",
              "          google.colab.kernel.accessAllowed ? 'block' : 'none';\n",
              "\n",
              "        async function convertToInteractive(key) {\n",
              "          const element = document.querySelector('#df-d803fcd0-5ce3-4e3e-88c3-e31c3a92dd94');\n",
              "          const dataTable =\n",
              "            await google.colab.kernel.invokeFunction('convertToInteractive',\n",
              "                                                     [key], {});\n",
              "          if (!dataTable) return;\n",
              "\n",
              "          const docLinkHtml = 'Like what you see? Visit the ' +\n",
              "            '<a target=\"_blank\" href=https://colab.research.google.com/notebooks/data_table.ipynb>data table notebook</a>'\n",
              "            + ' to learn more about interactive tables.';\n",
              "          element.innerHTML = '';\n",
              "          dataTable['output_type'] = 'display_data';\n",
              "          await google.colab.output.renderOutput(dataTable, element);\n",
              "          const docLink = document.createElement('div');\n",
              "          docLink.innerHTML = docLinkHtml;\n",
              "          element.appendChild(docLink);\n",
              "        }\n",
              "      </script>\n",
              "    </div>\n",
              "  </div>\n",
              "  "
            ]
          },
          "metadata": {},
          "execution_count": 6
        }
      ]
    },
    {
      "cell_type": "code",
      "source": [
        "# check kolom kategori\n",
        "categories = df['kategori'].unique()\n",
        "categories"
      ],
      "metadata": {
        "id": "uUmHOrUMs42A"
      },
      "execution_count": null,
      "outputs": []
    },
    {
      "cell_type": "code",
      "source": [
        "categories = list(categories)\n",
        "print(categories)\n",
        "print(len(categories))"
      ],
      "metadata": {
        "id": "wl90wM8Ptfkl"
      },
      "execution_count": null,
      "outputs": []
    },
    {
      "cell_type": "markdown",
      "source": [
        "# Membagi data menjadi Train dataset dan Test dataset"
      ],
      "metadata": {
        "id": "Y-ScB8-Vtxql"
      }
    },
    {
      "cell_type": "code",
      "source": [
        "# buat dataset baru yang terdiri dari kolom lemmatized dan kategori\n",
        "new_df = df[['lemmatized', 'kategori']]\n",
        "new_df.info()"
      ],
      "metadata": {
        "id": "1PaOAe8wtoZM",
        "outputId": "3bf4a1ae-b0dd-4048-8da2-d118def7f3db",
        "colab": {
          "base_uri": "https://localhost:8080/"
        }
      },
      "execution_count": 8,
      "outputs": [
        {
          "output_type": "stream",
          "name": "stdout",
          "text": [
            "<class 'pandas.core.frame.DataFrame'>\n",
            "RangeIndex: 3075 entries, 0 to 3074\n",
            "Data columns (total 2 columns):\n",
            " #   Column      Non-Null Count  Dtype \n",
            "---  ------      --------------  ----- \n",
            " 0   lemmatized  3075 non-null   object\n",
            " 1   kategori    3075 non-null   object\n",
            "dtypes: object(2)\n",
            "memory usage: 48.2+ KB\n"
          ]
        }
      ]
    },
    {
      "cell_type": "code",
      "source": [
        "# membuat data train dan test\n",
        "X = new_df['lemmatized']\n",
        "y = new_df['kategori']\n",
        "\n",
        "X_train, X_test, y_train, y_test = train_test_split(X, y, test_size=0.1, random_state=23)"
      ],
      "metadata": {
        "id": "jt2U1GMDuQK8"
      },
      "execution_count": 9,
      "outputs": []
    },
    {
      "cell_type": "code",
      "source": [
        "# memeriksa panjang data train \n",
        "print(len(X_train)) # feature\n",
        "print(len(y_train)) # label\n",
        "\n",
        "# memeriksa panjang data test\n",
        "print(len(X_test))\n",
        "print(len(y_test))"
      ],
      "metadata": {
        "id": "MsJsN4V4vST3",
        "outputId": "e3dd443d-ad8b-428d-e9aa-08399d21f3c0",
        "colab": {
          "base_uri": "https://localhost:8080/"
        }
      },
      "execution_count": 10,
      "outputs": [
        {
          "output_type": "stream",
          "name": "stdout",
          "text": [
            "2767\n",
            "2767\n",
            "308\n",
            "308\n"
          ]
        }
      ]
    },
    {
      "cell_type": "markdown",
      "source": [
        "# Feature Extraction"
      ],
      "metadata": {
        "id": "jgAFrtCmxFUN"
      }
    },
    {
      "cell_type": "code",
      "source": [
        "# Feature Extraction with Count Vectorizer\n",
        "count_vect = CountVectorizer()\n",
        "X_train_cv = count_vect.fit_transform(X_train)\n",
        "\n",
        "# transform count vectorized train data into TF-IDF\n",
        "tfidf_transformer = TfidfTransformer()\n",
        "X_train_tfidf = tfidf_transformer.fit_transform(X_train_cv)"
      ],
      "metadata": {
        "id": "on0SyPZTvT9X"
      },
      "execution_count": 11,
      "outputs": []
    },
    {
      "cell_type": "markdown",
      "source": [
        "# Menentukan nilai k"
      ],
      "metadata": {
        "id": "JjGUTCNNxABP"
      }
    },
    {
      "cell_type": "code",
      "source": [
        "# tentukan nilai k\n",
        "# nilai default k=5. lihat dokumentasi KNeigborsClassifier di web scikit learn\n",
        "# knn = KNeighborsClassifier(n_neighbors=5)\n",
        "\n",
        "knn = KNeighborsClassifier(n_neighbors=4)"
      ],
      "metadata": {
        "id": "wLknZ1WXwuws"
      },
      "execution_count": 24,
      "outputs": []
    },
    {
      "cell_type": "markdown",
      "source": [
        "# Membuat Model"
      ],
      "metadata": {
        "id": "lUzzSuc6yDg1"
      }
    },
    {
      "cell_type": "code",
      "source": [
        "# menggunakan modul Pipeline untuk mempermudah proses\n",
        "news_clf = Pipeline([\n",
        "    ('vect', CountVectorizer()),\n",
        "    ('tfidf', TfidfTransformer()),\n",
        "    ('clf', knn),\n",
        "])\n",
        "\n",
        "# Fit data train ke pipeline\n",
        "news_clf.fit(X_train, y_train)"
      ],
      "metadata": {
        "id": "LHaiGh8byCaq",
        "outputId": "b5504839-1cf3-46c0-cf51-d067c31850b8",
        "colab": {
          "base_uri": "https://localhost:8080/"
        }
      },
      "execution_count": 25,
      "outputs": [
        {
          "output_type": "execute_result",
          "data": {
            "text/plain": [
              "Pipeline(steps=[('vect', CountVectorizer()), ('tfidf', TfidfTransformer()),\n",
              "                ('clf', KNeighborsClassifier(n_neighbors=4))])"
            ]
          },
          "metadata": {},
          "execution_count": 25
        }
      ]
    },
    {
      "cell_type": "markdown",
      "source": [
        "# Evaluasi Model"
      ],
      "metadata": {
        "id": "Fa4cC-3w0QOG"
      }
    },
    {
      "cell_type": "code",
      "source": [
        "# predict data test\n",
        "predicted = news_clf.predict(X_test)\n",
        "\n",
        "# menghitung nilai akurasi berdasarkan test data dengan nilai k=4\n",
        "print(f\"Akurasi yang didapatkan senilai {np.mean(predicted==y_test)*100} %\")"
      ],
      "metadata": {
        "id": "1gZ_-5TyQLUF",
        "outputId": "f1859ccd-9750-4ca0-964d-e871e6b91f1e",
        "colab": {
          "base_uri": "https://localhost:8080/"
        }
      },
      "execution_count": 26,
      "outputs": [
        {
          "output_type": "stream",
          "name": "stdout",
          "text": [
            "Akurasi yang didapatkan senilai 61.038961038961034 %\n"
          ]
        }
      ]
    },
    {
      "cell_type": "code",
      "source": [
        "# predict data test\n",
        "predicted = news_clf.predict(X_test)\n",
        "\n",
        "# menghitung nilai akurasi berdasarkan test data dengan nilai k=5\n",
        "print(f\"Akurasi yang didapatkan senilai {np.mean(predicted==y_test)*100} %\")"
      ],
      "metadata": {
        "id": "SzZh7-yUOh0e",
        "outputId": "a43ce233-8e4b-4ed4-b548-e86ca462829f",
        "colab": {
          "base_uri": "https://localhost:8080/"
        }
      },
      "execution_count": 12,
      "outputs": [
        {
          "output_type": "stream",
          "name": "stdout",
          "text": [
            "Akurasi yang didapatkan senilai 59.02439024390244 %\n"
          ]
        }
      ]
    },
    {
      "cell_type": "code",
      "source": [
        "# predict data test\n",
        "predicted = news_clf.predict(X_test)\n",
        "\n",
        "# menghitung nilai akurasi berdasarkan test data dengan nilai k=6\n",
        "print(f\"Akurasi yang didapatkan senilai {np.mean(predicted==y_test)*100} %\")"
      ],
      "metadata": {
        "id": "gW7v2TIOPakW",
        "outputId": "716a11cc-4b5d-49cc-88ed-383424ac8739",
        "colab": {
          "base_uri": "https://localhost:8080/"
        }
      },
      "execution_count": 23,
      "outputs": [
        {
          "output_type": "stream",
          "name": "stdout",
          "text": [
            "Akurasi yang didapatkan senilai 62.33766233766234 %\n"
          ]
        }
      ]
    },
    {
      "cell_type": "code",
      "source": [
        "# predict data test\n",
        "predicted = news_clf.predict(X_test)\n",
        "\n",
        "# menghitung nilai akurasi berdasarkan test data dengan nilai k=7\n",
        "print(f\"Akurasi yang didapatkan senilai {np.mean(predicted==y_test)*100} %\")"
      ],
      "metadata": {
        "id": "sMeFDCpgzVp3",
        "outputId": "f3e9fa45-2036-4dfe-86a3-5ef974c41c03",
        "colab": {
          "base_uri": "https://localhost:8080/"
        }
      },
      "execution_count": 17,
      "outputs": [
        {
          "output_type": "stream",
          "name": "stdout",
          "text": [
            "Akurasi yang didapatkan senilai 61.038961038961034 %\n"
          ]
        }
      ]
    },
    {
      "cell_type": "code",
      "source": [
        "# predict data test\n",
        "predicted = news_clf.predict(X_test)\n",
        "\n",
        "# menghitung nilai akurasi berdasarkan test data dengan nilai k=8\n",
        "print(f\"Akurasi yang didapatkan senilai {np.mean(predicted==y_test)*100} %\")"
      ],
      "metadata": {
        "id": "uyQgKzsUPSDr",
        "outputId": "dde1428c-3150-49a5-fd95-3508334b56fe",
        "colab": {
          "base_uri": "https://localhost:8080/"
        }
      },
      "execution_count": 20,
      "outputs": [
        {
          "output_type": "stream",
          "name": "stdout",
          "text": [
            "Akurasi yang didapatkan senilai 60.71428571428571 %\n"
          ]
        }
      ]
    },
    {
      "cell_type": "code",
      "source": [
        "import numpy as np\n",
        "rng = np.random.RandomState(1)\n",
        "X = rng.randint(5, size=(6, 100))"
      ],
      "metadata": {
        "id": "I7I4hhK7-HeZ"
      },
      "execution_count": 1,
      "outputs": []
    },
    {
      "cell_type": "code",
      "source": [
        "X"
      ],
      "metadata": {
        "id": "2MzEPDtc-KxG",
        "outputId": "58414b5a-8265-4407-c211-43eb4a97a50b",
        "colab": {
          "base_uri": "https://localhost:8080/"
        }
      },
      "execution_count": 2,
      "outputs": [
        {
          "output_type": "execute_result",
          "data": {
            "text/plain": [
              "array([[3, 4, 0, 1, 3, 0, 0, 1, 4, 4, 1, 2, 4, 2, 4, 3, 4, 2, 4, 2, 4, 1,\n",
              "        1, 0, 1, 1, 1, 1, 0, 4, 1, 0, 0, 3, 2, 1, 0, 3, 1, 1, 3, 4, 0, 1,\n",
              "        3, 4, 2, 4, 0, 3, 1, 2, 0, 4, 1, 2, 2, 1, 0, 1, 3, 4, 3, 1, 3, 0,\n",
              "        0, 2, 2, 1, 3, 4, 2, 0, 0, 1, 1, 3, 0, 0, 4, 2, 4, 3, 3, 0, 3, 4,\n",
              "        3, 4, 4, 4, 1, 0, 4, 2, 0, 2, 4, 1],\n",
              "       [1, 0, 2, 4, 4, 0, 4, 1, 4, 1, 0, 2, 3, 1, 2, 4, 4, 2, 2, 0, 1, 2,\n",
              "        2, 0, 1, 2, 4, 0, 1, 2, 1, 4, 2, 0, 0, 1, 0, 1, 3, 1, 1, 4, 4, 3,\n",
              "        0, 3, 0, 3, 1, 2, 4, 0, 0, 3, 1, 1, 0, 0, 4, 2, 3, 4, 2, 0, 3, 3,\n",
              "        1, 2, 4, 3, 0, 0, 4, 2, 4, 2, 0, 3, 0, 0, 4, 2, 1, 0, 4, 3, 0, 1,\n",
              "        2, 4, 4, 3, 3, 3, 3, 2, 3, 3, 4, 3],\n",
              "       [2, 4, 4, 0, 3, 3, 0, 3, 1, 0, 2, 2, 2, 0, 2, 1, 4, 0, 4, 4, 1, 3,\n",
              "        1, 4, 1, 2, 1, 0, 0, 2, 4, 1, 0, 0, 3, 1, 0, 4, 3, 2, 3, 4, 4, 3,\n",
              "        0, 0, 0, 4, 1, 4, 1, 2, 2, 4, 3, 4, 4, 0, 3, 2, 4, 3, 4, 2, 3, 0,\n",
              "        2, 1, 3, 2, 0, 1, 4, 1, 3, 3, 1, 2, 0, 2, 4, 0, 2, 4, 3, 4, 3, 0,\n",
              "        4, 2, 2, 4, 1, 2, 1, 1, 1, 0, 4, 4],\n",
              "       [2, 2, 3, 1, 4, 0, 0, 3, 2, 4, 1, 3, 1, 1, 2, 4, 0, 3, 0, 4, 2, 3,\n",
              "        1, 1, 4, 4, 0, 2, 1, 3, 0, 1, 0, 2, 2, 4, 3, 2, 2, 2, 0, 2, 0, 4,\n",
              "        1, 0, 2, 3, 0, 4, 3, 3, 3, 0, 3, 1, 2, 0, 1, 4, 2, 3, 4, 4, 2, 1,\n",
              "        2, 0, 3, 3, 2, 0, 0, 0, 0, 2, 4, 0, 4, 1, 2, 1, 2, 4, 1, 3, 1, 1,\n",
              "        2, 4, 1, 0, 2, 1, 2, 0, 0, 3, 4, 1],\n",
              "       [0, 4, 0, 3, 2, 4, 3, 2, 4, 2, 4, 0, 0, 4, 2, 2, 4, 2, 3, 0, 0, 4,\n",
              "        3, 4, 3, 3, 4, 0, 3, 1, 4, 4, 3, 2, 2, 2, 2, 2, 0, 2, 1, 2, 3, 0,\n",
              "        0, 1, 1, 3, 3, 3, 1, 3, 3, 3, 1, 3, 0, 4, 0, 2, 4, 4, 2, 0, 3, 2,\n",
              "        4, 0, 4, 2, 3, 4, 2, 4, 1, 3, 4, 3, 0, 3, 0, 4, 3, 0, 3, 1, 4, 4,\n",
              "        2, 2, 4, 2, 1, 2, 3, 1, 3, 3, 0, 4],\n",
              "       [3, 3, 3, 3, 0, 2, 3, 1, 3, 2, 3, 2, 2, 0, 4, 0, 1, 3, 0, 0, 0, 1,\n",
              "        2, 4, 4, 2, 0, 1, 0, 0, 2, 4, 3, 0, 2, 1, 3, 3, 1, 4, 4, 4, 0, 1,\n",
              "        0, 1, 2, 2, 4, 2, 4, 0, 2, 4, 4, 1, 1, 1, 1, 4, 3, 4, 1, 1, 1, 2,\n",
              "        4, 3, 2, 3, 3, 2, 3, 0, 2, 0, 1, 0, 0, 3, 4, 0, 0, 0, 0, 1, 0, 1,\n",
              "        3, 3, 4, 0, 1, 0, 3, 2, 1, 1, 0, 0]])"
            ]
          },
          "metadata": {},
          "execution_count": 2
        }
      ]
    },
    {
      "cell_type": "code",
      "source": [
        "l = [3, 4, 0, 1, 3, 0, 0, 1, 4, 4, 1, 2, 4, 2, 4, 3, 4, 2, 4, 2, 4, 1,\n",
        "        1, 0, 1, 1, 1, 1, 0, 4, 1, 0, 0, 3, 2, 1, 0, 3, 1, 1, 3, 4, 0, 1,\n",
        "        3, 4, 2, 4, 0, 3, 1, 2, 0, 4, 1, 2, 2, 1, 0, 1, 3, 4, 3, 1, 3, 0,\n",
        "        0, 2, 2, 1, 3, 4, 2, 0, 0, 1, 1, 3, 0, 0, 4, 2, 4, 3, 3, 0, 3, 4,\n",
        "        3, 4, 4, 4, 1, 0, 4, 2, 0, 2, 4, 1]\n",
        "len(l)"
      ],
      "metadata": {
        "id": "xzrUg8Cb-Mjj",
        "outputId": "e2791be8-4497-4734-f8d3-729b304213e5",
        "colab": {
          "base_uri": "https://localhost:8080/"
        }
      },
      "execution_count": 3,
      "outputs": [
        {
          "output_type": "execute_result",
          "data": {
            "text/plain": [
              "100"
            ]
          },
          "metadata": {},
          "execution_count": 3
        }
      ]
    },
    {
      "cell_type": "markdown",
      "source": [
        "# Text Classification with Naive Bayes"
      ],
      "metadata": {
        "id": "P3JqP5CdHOEN"
      }
    },
    {
      "cell_type": "code",
      "source": [
        "from sklearn.feature_extraction.text import CountVectorizer\n",
        "from sklearn.feature_extraction.text import TfidfTransformer\n",
        "from sklearn.model_selection import train_test_split\n",
        "from sklearn.naive_bayes import MultinomialNB\n",
        "from sklearn.pipeline import Pipeline\n",
        "\n",
        "\n",
        "# Load data\n",
        "df = pd.read_csv('/content/preprocessed-news.csv')\n",
        "\n",
        "# Split dataset\n",
        "X_train, X_test, y_train, y_test = train_test_split(df['lemmatized'], \n",
        "                                                    df['kategori'], \n",
        "                                                    test_size=0.1, \n",
        "                                                    random_state=123)\n",
        "\n",
        "# Build Pipeline\n",
        "text_clf = Pipeline([\n",
        "        ('vect', CountVectorizer()),\n",
        "        ('tfidf', TfidfTransformer()),\n",
        "        ('clf', MultinomialNB()),\n",
        "])\n",
        "\n",
        "# Build Classifier\n",
        "text_clf.fit(X_train, y_train)\n",
        "\n",
        "# predict test data\n",
        "predicted = text_clf.predict(X_test)\n",
        "\n",
        "# evaluate the classifier\n",
        "print(f\"Akurasi yang didapatkan senilai {np.mean(predicted==y_test)*100}\")"
      ],
      "metadata": {
        "id": "ZTUkxplq-dB0",
        "outputId": "1bfaf845-6f55-45d1-859d-d59c958658f9",
        "colab": {
          "base_uri": "https://localhost:8080/"
        }
      },
      "execution_count": 22,
      "outputs": [
        {
          "output_type": "stream",
          "name": "stdout",
          "text": [
            "Akurasi yang didapatkan senilai 47.07792207792208\n"
          ]
        }
      ]
    },
    {
      "cell_type": "code",
      "source": [
        ""
      ],
      "metadata": {
        "id": "2QRTsga5HamS"
      },
      "execution_count": null,
      "outputs": []
    }
  ]
}