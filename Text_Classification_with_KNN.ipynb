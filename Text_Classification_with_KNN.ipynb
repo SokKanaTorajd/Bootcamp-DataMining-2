{
  "nbformat": 4,
  "nbformat_minor": 0,
  "metadata": {
    "colab": {
      "name": "Text Classification with KNN.ipynb",
      "provenance": [],
      "authorship_tag": "ABX9TyNkXpURxAK3dHBHHA7bV7ni",
      "include_colab_link": true
    },
    "kernelspec": {
      "name": "python3",
      "display_name": "Python 3"
    },
    "language_info": {
      "name": "python"
    }
  },
  "cells": [
    {
      "cell_type": "markdown",
      "metadata": {
        "id": "view-in-github",
        "colab_type": "text"
      },
      "source": [
        "<a href=\"https://colab.research.google.com/github/SokKanaTorajd/Bootcamp-DataMining-2/blob/main/Text_Classification_with_KNN.ipynb\" target=\"_parent\"><img src=\"https://colab.research.google.com/assets/colab-badge.svg\" alt=\"Open In Colab\"/></a>"
      ]
    },
    {
      "cell_type": "markdown",
      "source": [
        "# Import Libraries"
      ],
      "metadata": {
        "id": "S2zUIb4cssfV"
      }
    },
    {
      "cell_type": "code",
      "execution_count": null,
      "metadata": {
        "id": "SSPUtjiSoc6G"
      },
      "outputs": [],
      "source": [
        "from sklearn.feature_extraction.text import CountVectorizer\n",
        "from sklearn.feature_extraction.text import TfidfTransformer\n",
        "from sklearn.model_selection import train_test_split\n",
        "from sklearn.neighbors import KNeighborsClassifier\n",
        "from sklearn.pipeline import Pipeline\n",
        "\n",
        "import numpy as np\n",
        "import pandas as pd"
      ]
    },
    {
      "cell_type": "markdown",
      "source": [
        "# Load Data"
      ],
      "metadata": {
        "id": "mqAy_P-GsqVC"
      }
    },
    {
      "cell_type": "code",
      "source": [
        "df = pd.read_csv('/content/preprocessed-news.csv')"
      ],
      "metadata": {
        "id": "21x3FkCUpNEd"
      },
      "execution_count": null,
      "outputs": []
    },
    {
      "cell_type": "code",
      "source": [
        "df.head()"
      ],
      "metadata": {
        "id": "3-8BXrxYs3RE"
      },
      "execution_count": null,
      "outputs": []
    },
    {
      "cell_type": "code",
      "source": [
        "# check kolom kategori\n",
        "categories = df['kategori'].unique()\n",
        "categories"
      ],
      "metadata": {
        "id": "uUmHOrUMs42A"
      },
      "execution_count": null,
      "outputs": []
    },
    {
      "cell_type": "code",
      "source": [
        "categories = list(categories)\n",
        "print(categories)\n",
        "print(len(categories))"
      ],
      "metadata": {
        "id": "wl90wM8Ptfkl"
      },
      "execution_count": null,
      "outputs": []
    },
    {
      "cell_type": "markdown",
      "source": [
        "# Membagi data menjadi Train dataset dan Test dataset"
      ],
      "metadata": {
        "id": "Y-ScB8-Vtxql"
      }
    },
    {
      "cell_type": "code",
      "source": [
        "# buat dataset baru yang terdiri dari kolom lemmatized dan kategori\n",
        "new_df = df[['lemmatized', 'kategori']]\n",
        "new_df.info()"
      ],
      "metadata": {
        "id": "1PaOAe8wtoZM"
      },
      "execution_count": null,
      "outputs": []
    },
    {
      "cell_type": "code",
      "source": [
        "# membuat data train dan test\n",
        "X = new_df['lemmatized']\n",
        "y = new_df['kategori']\n",
        "\n",
        "X_train, X_test, y_train, y_test = train_test_split(X, y, test_size=0.2, random_state=23)"
      ],
      "metadata": {
        "id": "jt2U1GMDuQK8"
      },
      "execution_count": null,
      "outputs": []
    },
    {
      "cell_type": "code",
      "source": [
        "# memeriksa panjang data train \n",
        "print(len(X_train)) # feature\n",
        "print(len(y_train)) # label\n",
        "\n",
        "# memeriksa panjang data test\n",
        "print(len(X_test))\n",
        "print(len(y_test))"
      ],
      "metadata": {
        "id": "MsJsN4V4vST3"
      },
      "execution_count": null,
      "outputs": []
    },
    {
      "cell_type": "markdown",
      "source": [
        "# Feature Extraction"
      ],
      "metadata": {
        "id": "jgAFrtCmxFUN"
      }
    },
    {
      "cell_type": "code",
      "source": [
        "# Feature Extraction with Count Vectorizer\n",
        "count_vect = CountVectorizer()\n",
        "X_train_cv = count_vect.fit_transform(X_train)\n",
        "\n",
        "# transform count vectorized train data into TF-IDF\n",
        "tfidf_transformer = TfidfTransformer()\n",
        "X_train_tfidf = tfidf_transformer.fit_transform(X_train_cv)"
      ],
      "metadata": {
        "id": "on0SyPZTvT9X"
      },
      "execution_count": null,
      "outputs": []
    },
    {
      "cell_type": "markdown",
      "source": [
        "# Menentukan nilai k"
      ],
      "metadata": {
        "id": "JjGUTCNNxABP"
      }
    },
    {
      "cell_type": "code",
      "source": [
        "# tentukan nilai k\n",
        "# nilai default k=5. lihat dokumentasi KNeigborsClassifier di web scikit learn\n",
        "knn = KNeighborsClassifier() "
      ],
      "metadata": {
        "id": "wLknZ1WXwuws"
      },
      "execution_count": null,
      "outputs": []
    },
    {
      "cell_type": "markdown",
      "source": [
        "# Membuat Model"
      ],
      "metadata": {
        "id": "lUzzSuc6yDg1"
      }
    },
    {
      "cell_type": "code",
      "source": [
        "# menggunakan modul Pipeline untuk mempermudah proses\n",
        "news_clf = Pipeline([\n",
        "    ('vect', CountVectorizer()),\n",
        "    ('tfidf', TfidfTransformer()),\n",
        "    ('clf', knn),\n",
        "])\n",
        "\n",
        "# Fit data train ke pipeline\n",
        "news_clf.fit(X_train, y_train)"
      ],
      "metadata": {
        "id": "LHaiGh8byCaq"
      },
      "execution_count": null,
      "outputs": []
    },
    {
      "cell_type": "markdown",
      "source": [
        "# Evaluasi Model"
      ],
      "metadata": {
        "id": "Fa4cC-3w0QOG"
      }
    },
    {
      "cell_type": "code",
      "source": [
        "# predict data test\n",
        "predicted = news_clf.predict(X_test)\n",
        "\n",
        "# menghitung nilai akurasi berdasarkan test data\n",
        "print(f\"Akurasi yang didapatkan senilai {np.mean(predicted==y_test)*100} %\")"
      ],
      "metadata": {
        "id": "sMeFDCpgzVp3"
      },
      "execution_count": null,
      "outputs": []
    }
  ]
}